{
 "cells": [
  {
   "cell_type": "code",
   "execution_count": 13,
   "id": "cddc9359",
   "metadata": {},
   "outputs": [],
   "source": [
    "import pandas as pd\n",
    "import numpy as np\n",
    "import matplotlib.pyplot as plt\n",
    "import os\n",
    "import zipfile\n",
    "import shutil\n",
    "import ast"
   ]
  },
  {
   "cell_type": "markdown",
   "id": "fdaef253",
   "metadata": {},
   "source": [
    "Este notebook esta preparado para trabajar desde google drive, por favor, asegurese de que el notebook se encuentre en el directorio donde haya guardado las carpetas con las imagenes o ajuste sus rutas a la hora de leer los archivos"
   ]
  },
  {
   "cell_type": "code",
   "execution_count": null,
   "id": "87458959",
   "metadata": {},
   "outputs": [],
   "source": [
    "from google.colab import drive\n",
    "drive.mount('/content/drive')\n",
    "\n",
    "!ls \"/content/drive/My Drive\""
   ]
  },
  {
   "cell_type": "code",
   "execution_count": 14,
   "id": "6f27191e",
   "metadata": {},
   "outputs": [],
   "source": [
    "os.getcwd()\n",
    "os.chdir('D:\\Datos Usuario\\Desktop\\data\\Año 2.2\\TFM\\Imagenes')"
   ]
  },
  {
   "cell_type": "markdown",
   "id": "0619ea96",
   "metadata": {},
   "source": [
    "# ANALISIS EXPLORATORIO"
   ]
  },
  {
   "cell_type": "code",
   "execution_count": 15,
   "id": "63d1a829",
   "metadata": {},
   "outputs": [
    {
     "name": "stdout",
     "output_type": "stream",
     "text": [
      "El número total de imagenes es: 160861\n",
      "Informacion almacenada de cada imagen: Index(['Unnamed: 0', 'ImageID', 'ImageDir', 'StudyDate_DICOM', 'StudyID',\n",
      "       'PatientID', 'PatientBirth', 'PatientSex_DICOM', 'ViewPosition_DICOM',\n",
      "       'Projection', 'MethodProjection', 'Pediatric', 'Modality_DICOM',\n",
      "       'Manufacturer_DICOM', 'PhotometricInterpretation_DICOM',\n",
      "       'PixelRepresentation_DICOM', 'PixelAspectRatio_DICOM',\n",
      "       'SpatialResolution_DICOM', 'BitsStored_DICOM', 'WindowCenter_DICOM',\n",
      "       'WindowWidth_DICOM', 'Rows_DICOM', 'Columns_DICOM',\n",
      "       'XRayTubeCurrent_DICOM', 'Exposure_DICOM', 'ExposureInuAs_DICOM',\n",
      "       'ExposureTime', 'RelativeXRayExposure_DICOM', 'ReportID', 'Report',\n",
      "       'MethodLabel', 'Labels', 'Localizations',\n",
      "       'LabelsLocalizationsBySentence', 'labelCUIS', 'LocalizationsCUIS'],\n",
      "      dtype='object')\n"
     ]
    },
    {
     "name": "stderr",
     "output_type": "stream",
     "text": [
      "C:\\Users\\Usuario\\AppData\\Local\\Temp\\ipykernel_5224\\3465690643.py:2: DtypeWarning: Columns (19,20) have mixed types. Specify dtype option on import or set low_memory=False.\n",
      "  df = pd.read_csv(\"PADCHEST_chest_x_ray_images_labels_160K_01.02.19 (1).csv\")\n"
     ]
    }
   ],
   "source": [
    "#Lectura del archivo que contiene las etiquetas de todas las imagenes\n",
    "df = pd.read_csv(\"PADCHEST_chest_x_ray_images_labels_160K_01.02.19 (1).csv\")\n",
    "\n",
    "n_rows = print(f'El número total de imagenes es:',len(df))\n",
    "n_cols = print(f'Informacion almacenada de cada imagen:',df.columns)"
   ]
  },
  {
   "cell_type": "code",
   "execution_count": 16,
   "id": "dccf5b95",
   "metadata": {},
   "outputs": [
    {
     "name": "stdout",
     "output_type": "stream",
     "text": [
      "Número de entradas con etiquetas 'normal': 50340\n",
      "Número de entradas con etiquetas 'lung metastasis': 326\n"
     ]
    }
   ],
   "source": [
    "#Recuento de imagenes sin patologia\n",
    "df['Labels'] = df['Labels'].fillna(\"[]\")\n",
    "df['Labels'] = df['Labels'].apply(lambda x: ast.literal_eval(x) if isinstance(x, str) else x)\n",
    "df['Normal'] = df['Labels'].apply(lambda labels: 'normal' in labels)\n",
    "n_normal = df['Normal'].sum()\n",
    "\n",
    "#Recuento de imagenes con metastasis pulmonar\n",
    "df['Labels'] = df['Labels'].fillna(\"[]\")\n",
    "df['Labels'] = df['Labels'].apply(lambda x: ast.literal_eval(x) if isinstance(x, str) else x)\n",
    "df['Has_Lung_Metastasis'] = df['Labels'].apply(lambda labels: 'lung metastasis' in labels)\n",
    "n_lung_metastasis = df['Has_Lung_Metastasis'].sum()\n",
    "\n",
    "print(f\"Número de entradas con etiquetas 'normal': {n_normal}\")\n",
    "print(f\"Número de entradas con etiquetas 'lung metastasis': {n_lung_metastasis}\")"
   ]
  },
  {
   "cell_type": "markdown",
   "id": "03f07fc2",
   "metadata": {},
   "source": [
    "Observamos que en total tenemos 50340 imagenes sin patologia y solo 326 con patología, esto muestra que hay un claro desbalanceo entre las clases de las imagenes que habrá que mitigar.\n",
    "\n",
    "A continuación analizamos dentro de las imagenes con metastasis los distintos tipos de proyeccion de imagen."
   ]
  },
  {
   "cell_type": "code",
   "execution_count": 17,
   "id": "8d60c32a",
   "metadata": {},
   "outputs": [
    {
     "name": "stdout",
     "output_type": "stream",
     "text": [
      "Recuento de valores para la columna 'Projection' en imágenes con 'lung metastasis':\n",
      "PA               165\n",
      "L                118\n",
      "AP_horizontal     31\n",
      "AP                 9\n",
      "COSTAL             3\n",
      "Name: Projection, dtype: int64\n"
     ]
    }
   ],
   "source": [
    "# Imagenes con metastasis\n",
    "df_lung_metastasis = df[df['Has_Lung_Metastasis']]\n",
    "\n",
    "# Recuento de valores en la columna 'Projection'\n",
    "projection_counts = df_lung_metastasis['Projection'].value_counts()\n",
    "\n",
    "print(\"Recuento de valores para la columna 'Projection' en imágenes con 'lung metastasis':\")\n",
    "print(projection_counts)"
   ]
  }
 ],
 "metadata": {
  "kernelspec": {
   "display_name": "Python 3 (ipykernel)",
   "language": "python",
   "name": "python3"
  },
  "language_info": {
   "codemirror_mode": {
    "name": "ipython",
    "version": 3
   },
   "file_extension": ".py",
   "mimetype": "text/x-python",
   "name": "python",
   "nbconvert_exporter": "python",
   "pygments_lexer": "ipython3",
   "version": "3.9.18"
  }
 },
 "nbformat": 4,
 "nbformat_minor": 5
}
