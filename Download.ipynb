{
 "cells": [
  {
   "cell_type": "code",
   "execution_count": 1,
   "id": "adc97929",
   "metadata": {},
   "outputs": [],
   "source": [
    "import pandas as pd\n",
    "import numpy as np\n",
    "import matplotlib.pyplot as plt\n",
    "import os\n",
    "import zipfile\n",
    "import shutil\n",
    "import ast"
   ]
  },
  {
   "cell_type": "code",
   "execution_count": null,
   "id": "938d1288",
   "metadata": {},
   "outputs": [],
   "source": [
    "# Create a folder for each cateogry\n",
    "lung_metastasis_dir = os.path.join(base_path, 'lung_metastasis')\n",
    "normal_dir = os.path.join(base_path, 'normal')\n",
    "os.makedirs(lung_metastasis_dir, exist_ok=True)\n",
    "os.makedirs(normal_dir, exist_ok=True)"
   ]
  },
  {
   "cell_type": "code",
   "execution_count": 6,
   "id": "37532e67",
   "metadata": {},
   "outputs": [],
   "source": [
    "df = pd.read_csv(\"PADCHEST_chest_x_ray_images_labels_160K_01.02.19 (1).csv\", low_memory=False)"
   ]
  },
  {
   "cell_type": "code",
   "execution_count": null,
   "id": "3177a431",
   "metadata": {},
   "outputs": [],
   "source": [
    "# There are 54 zips\n",
    "# zip_names = ['1']\n",
    "\n",
    "# Directory where your zip is placed\n",
    "# base_path = ' ' \n",
    "\n",
    "# Directory where you want the images to be saved\n",
    "# zip_folder = ' '"
   ]
  },
  {
   "cell_type": "code",
   "execution_count": null,
   "id": "587f15b8",
   "metadata": {},
   "outputs": [],
   "source": [
    "# Function to process each ZIP file\n",
    "def process_zip_file(zip_name):\n",
    "    \"\"\"\n",
    "    This function extracts the images from the zip file\n",
    "    and saves them in their corresponding folder depending on\n",
    "    whether they are images with lung cancer or normal.\n",
    "    \"\"\"\n",
    "    zip_path = os.path.join(zip_folder, f'{zip_name}.zip')\n",
    "    extract_dir = os.path.join(base_path, 'extracted_files')\n",
    "\n",
    "    # Extract the ZIP file\n",
    "    with zipfile.ZipFile(zip_path, 'r') as zip_ref:\n",
    "        zip_ref.extractall(extract_dir)\n",
    "        print(f\"Files extracted to directory: {extract_dir}\")\n",
    "\n",
    "    # Filter to select images that are normal or with metastasis\n",
    "    filtered_df = df[df['Labels'].apply(lambda x: 'lung metastasis' in x or 'normal' in x if pd.notna(x) else False)]\n",
    "\n",
    "    # Move filtered images to the corresponding folders\n",
    "    for index, row in filtered_df.iterrows():\n",
    "        source_path = os.path.join(extract_dir, row['ImageID'])\n",
    "        if 'lung metastasis' in row['Labels']:\n",
    "            dest_path = os.path.join(lung_metastasis_dir, row['ImageID'])\n",
    "        elif 'normal' in row['Labels']:\n",
    "            dest_path = os.path.join(normal_dir, row['ImageID'])\n",
    "\n",
    "        if os.path.exists(source_path):\n",
    "            shutil.move(source_path, dest_path)\n",
    "        else:\n",
    "            print(f\"File not found: {source_path}\")\n",
    "\n",
    "# Iterate over each ZIP file in the list\n",
    "for zip_name in zip_names:\n",
    "    process_zip_file(zip_name)\n"
   ]
  }
 ],
 "metadata": {
  "kernelspec": {
   "display_name": "Python 3 (ipykernel)",
   "language": "python",
   "name": "python3"
  },
  "language_info": {
   "codemirror_mode": {
    "name": "ipython",
    "version": 3
   },
   "file_extension": ".py",
   "mimetype": "text/x-python",
   "name": "python",
   "nbconvert_exporter": "python",
   "pygments_lexer": "ipython3",
   "version": "3.9.18"
  }
 },
 "nbformat": 4,
 "nbformat_minor": 5
}
